{
  "nbformat": 4,
  "nbformat_minor": 0,
  "metadata": {
    "colab": {
      "name": "C112i.ipynb",
      "provenance": [],
      "collapsed_sections": []
    },
    "kernelspec": {
      "name": "python3",
      "display_name": "Python 3"
    },
    "language_info": {
      "name": "python"
    }
  },
  "cells": [
    {
      "cell_type": "markdown",
      "source": [
        "Display image"
      ],
      "metadata": {
        "id": "CXETLTxV47Mw"
      }
    },
    {
      "cell_type": "code",
      "source": [
        "%%writefile tutorial3i.cpp\n",
        "#include<opencv2/opencv.hpp>\n",
        "#include \"opencv2/highgui.hpp\"\n",
        "#include \"opencv2/imgproc.hpp\"\n",
        "\n",
        "using namespace cv;\n",
        "\n",
        "int main(){\n",
        "  Mat img_rgb, img_gry;\n",
        "  img_rgb = imread(\"/content/cat.jpg\");\n",
        "  cvtColor(img_rgb, img_gry, CV_BGR2GRAY);\n",
        "  imwrite(\"/content/output.jpg\",img_gry);\n",
        "  waitKey(0);\n",
        "  return 0;\n",
        "}"
      ],
      "metadata": {
        "colab": {
          "base_uri": "https://localhost:8080/"
        },
        "id": "rd7oL6DFuloQ",
        "outputId": "178e2ef7-bfd9-4581-f9f4-09fdc1d96028"
      },
      "execution_count": null,
      "outputs": [
        {
          "output_type": "stream",
          "name": "stdout",
          "text": [
            "Overwriting tutorial3i.cpp\n"
          ]
        }
      ]
    },
    {
      "cell_type": "code",
      "source": [
        "%%script bash\n",
        "\n",
        "g++ tutorial3i.cpp -L/usr/include/opencv -lopencv_core -lopencv_highgui -lopencv_imgcodecs -lopencv_imgproc -std=c++11 \n",
        "\n",
        "./a.out"
      ],
      "metadata": {
        "id": "QdWyy4lKuwZF"
      },
      "execution_count": null,
      "outputs": []
    },
    {
      "cell_type": "markdown",
      "source": [
        "Half Dimensions"
      ],
      "metadata": {
        "id": "L-VBpfRm530y"
      }
    },
    {
      "cell_type": "code",
      "source": [
        "%%writefile tutorial3ii.cpp\n",
        "#include<opencv2/opencv.hpp>\n",
        "#include \"opencv2/highgui.hpp\"\n",
        "#include \"opencv2/imgproc.hpp\"\n",
        "\n",
        "using namespace cv;\n",
        "\n",
        "int main(){\n",
        "  Mat img1, img2;\n",
        "  img1 = imread(\"/content/cat.jpg\");\n",
        "  pyrDown(img1, img2);\n",
        "  imwrite(\"/content/output.jpg\",img2);\n",
        "  waitKey(0);\n",
        "  return 0;\n",
        "}"
      ],
      "metadata": {
        "colab": {
          "base_uri": "https://localhost:8080/"
        },
        "id": "hUhk3CH16RUY",
        "outputId": "853140ad-1a7a-4535-c212-10b5f9ca46f1"
      },
      "execution_count": null,
      "outputs": [
        {
          "output_type": "stream",
          "name": "stdout",
          "text": [
            "Writing tutorial3ii.cpp\n"
          ]
        }
      ]
    },
    {
      "cell_type": "code",
      "source": [
        "%%script bash\n",
        "\n",
        "g++ tutorial3ii.cpp -L/usr/include/opencv -lopencv_core -lopencv_highgui -lopencv_imgcodecs -lopencv_imgproc -std=c++11 \n",
        "\n",
        "./a.out"
      ],
      "metadata": {
        "id": "DQ4M3_SI6YXC"
      },
      "execution_count": null,
      "outputs": []
    },
    {
      "cell_type": "markdown",
      "source": [
        "Simple Transform"
      ],
      "metadata": {
        "id": "-2qN2Bkf6zYn"
      }
    },
    {
      "cell_type": "code",
      "source": [
        "%%writefile tutorial3iii.cpp\n",
        "#include<opencv2/opencv.hpp>\n",
        "#include \"opencv2/highgui.hpp\"\n",
        "#include \"opencv2/imgproc.hpp\"\n",
        "\n",
        "using namespace cv;\n",
        "\n",
        "int main(){\n",
        "  Mat image, out;\n",
        "  image = imread(\"/content/cat.jpg\");\n",
        "  GaussianBlur( image, out, Size(5, 5), 3, 3 );\n",
        "  GaussianBlur( out, out, Size(5, 5), 3, 3 );\n",
        "  imwrite(\"/content/output.jpg\",out);\n",
        "  waitKey(0);\n",
        "  return 0;\n",
        "}"
      ],
      "metadata": {
        "colab": {
          "base_uri": "https://localhost:8080/"
        },
        "id": "nBD4Dx8K67sh",
        "outputId": "53f2d64a-572b-4acc-d87b-c5b6bf16f80a"
      },
      "execution_count": null,
      "outputs": [
        {
          "output_type": "stream",
          "name": "stdout",
          "text": [
            "Writing tutorial3iii.cpp\n"
          ]
        }
      ]
    },
    {
      "cell_type": "code",
      "source": [
        "%%script bash\n",
        "\n",
        "g++ tutorial3iii.cpp -L/usr/include/opencv -lopencv_core -lopencv_highgui -lopencv_imgcodecs -lopencv_imgproc -std=c++11 \n",
        "\n",
        "./a.out"
      ],
      "metadata": {
        "id": "BRi-B1xQ6-it"
      },
      "execution_count": null,
      "outputs": []
    },
    {
      "cell_type": "markdown",
      "source": [
        "Play video"
      ],
      "metadata": {
        "id": "9Mssrfi17hKw"
      }
    },
    {
      "cell_type": "code",
      "source": [
        "%%writefile tutorial3iv.cpp\n",
        "#include<opencv2/opencv.hpp>\n",
        "#include \"opencv2/highgui.hpp\"\n",
        "#include \"opencv2/imgproc.hpp\"\n",
        "#include \"opencv2/videoio.hpp\"\n",
        "#include <vector>\n",
        "\n",
        "using namespace std;\n",
        "using namespace cv;\n",
        "\n",
        "int main(){\n",
        "\n",
        "  VideoCapture cap;\n",
        "\n",
        "\tcap.open(\"./test2.mp4\");\n",
        "  int frame_width = static_cast<int>(cap.get(3));\n",
        "  int frame_height = static_cast<int>(cap.get(4));\n",
        "  Size frame_size(frame_width, frame_height);\n",
        "  int fps = 20;\n",
        "  VideoWriter output(\"./output.avi\", VideoWriter::fourcc('M', 'J', 'P', 'G'),fps, frame_size);\n",
        "\n",
        "\tMat frame, grey_frame, grey_three;\n",
        "  std::vector<Mat> channels;\n",
        "\n",
        "\tfor(;;) {\n",
        "\t\tcap >> frame;\n",
        "\t\tif( frame.empty() ) break; // Ran out of film\n",
        "    cvtColor(frame, grey_frame, CV_BGR2GRAY);\n",
        "    cvtColor(grey_frame, grey_three, CV_GRAY2BGR); // Hack for getting Grayscale back to the same shape as RGB (i.e. color)\n",
        "    output.write(grey_three);\n",
        "\t}\n",
        "  cap.release();\n",
        "\treturn 0;\n",
        "}\n"
      ],
      "metadata": {
        "colab": {
          "base_uri": "https://localhost:8080/"
        },
        "id": "mOh-AXQs7jbW",
        "outputId": "f20d8049-a231-4363-927c-0368a25f3561"
      },
      "execution_count": null,
      "outputs": [
        {
          "output_type": "stream",
          "name": "stdout",
          "text": [
            "Overwriting tutorial3iv.cpp\n"
          ]
        }
      ]
    },
    {
      "cell_type": "code",
      "source": [
        "%%script bash\n",
        "\n",
        "g++ tutorial3iv.cpp -L/usr/include/opencv -lopencv_core -lopencv_highgui -lopencv_imgcodecs -lopencv_imgproc -lopencv_videoio -std=c++11 \n",
        "\n",
        "./a.out"
      ],
      "metadata": {
        "id": "idUcWI287m85"
      },
      "execution_count": null,
      "outputs": []
    },
    {
      "cell_type": "markdown",
      "source": [
        "Canny edge "
      ],
      "metadata": {
        "id": "MPFUKrXPaCmv"
      }
    },
    {
      "cell_type": "code",
      "source": [
        "%%writefile tutorial3v.cpp\n",
        "#include<opencv2/opencv.hpp>\n",
        "#include \"opencv2/highgui.hpp\"\n",
        "#include \"opencv2/imgproc.hpp\"\n",
        "\n",
        "using namespace cv;\n",
        "\n",
        "int main(){\n",
        "  Mat img_rgb, img_gry, img_cny;\n",
        "  img_rgb = imread(\"/content/cat.jpg\");\n",
        "  cvtColor( img_rgb, img_gry, COLOR_BGR2GRAY);\n",
        "  Canny( img_gry, img_cny, 10, 100, 3, true );\n",
        "  imwrite(\"/content/output.jpg\",img_cny);\n",
        "  waitKey(0);\n",
        "  return 0;\n",
        "}"
      ],
      "metadata": {
        "colab": {
          "base_uri": "https://localhost:8080/"
        },
        "id": "DHig5fT6aBeO",
        "outputId": "9038b654-65b9-4162-c1a7-e0bf8f3ab5bf"
      },
      "execution_count": null,
      "outputs": [
        {
          "output_type": "stream",
          "name": "stdout",
          "text": [
            "Overwriting tutorial3v.cpp\n"
          ]
        }
      ]
    },
    {
      "cell_type": "code",
      "source": [
        "%%script bash\n",
        "\n",
        "g++ tutorial3v.cpp -L/usr/include/opencv -lopencv_core -lopencv_highgui -lopencv_imgcodecs -lopencv_imgproc -std=c++11 \n",
        "\n",
        "./a.out"
      ],
      "metadata": {
        "id": "gZLkQ93AaJuJ"
      },
      "execution_count": null,
      "outputs": []
    },
    {
      "cell_type": "markdown",
      "source": [
        "Canny edge Pyr"
      ],
      "metadata": {
        "id": "KFps_ohsasEj"
      }
    },
    {
      "cell_type": "code",
      "source": [
        "%%writefile tutorial3vi.cpp\n",
        "#include<opencv2/opencv.hpp>\n",
        "#include \"opencv2/highgui.hpp\"\n",
        "#include \"opencv2/imgproc.hpp\"\n",
        "\n",
        "using namespace cv;\n",
        "\n",
        "int main(){\n",
        "  Mat img_rgb, img_gry, img_pyr, img_pyr2, img_cny;\n",
        "  img_rgb = imread(\"/content/cat.jpg\");\n",
        "  cvtColor( img_rgb, img_gry, COLOR_BGR2GRAY);\n",
        "  pyrDown( img_gry, img_pyr );\n",
        "  pyrDown( img_pyr, img_pyr2 );\n",
        "  Canny( img_pyr2, img_cny, 10, 100, 3, true );\n",
        "  imwrite(\"/content/output.jpg\",img_cny);\n",
        "  waitKey(0);\n",
        "  return 0;\n",
        "}"
      ],
      "metadata": {
        "id": "etg6YOxdatzm"
      },
      "execution_count": null,
      "outputs": []
    },
    {
      "cell_type": "code",
      "source": [
        "%%script bash\n",
        "\n",
        "g++ tutorial3vi.cpp -L/usr/include/opencv -lopencv_core -lopencv_highgui -lopencv_imgcodecs -lopencv_imgproc -std=c++11 \n",
        "\n",
        "./a.out"
      ],
      "metadata": {
        "id": "fNdD3jVfb0yW"
      },
      "execution_count": null,
      "outputs": []
    },
    {
      "cell_type": "markdown",
      "source": [
        "Tutorial help"
      ],
      "metadata": {
        "id": "7aGs0Ag5OjdO"
      }
    },
    {
      "cell_type": "code",
      "source": [
        "%%writefile tutorial3help.cpp\n",
        "#include<opencv2/opencv.hpp>\n",
        "#include \"opencv2/highgui.hpp\"\n",
        "#include \"opencv2/imgproc.hpp\"\n",
        "#include \"opencv2/videoio.hpp\"\n",
        "#include <vector>\n",
        "\n",
        "using namespace std;\n",
        "using namespace cv;\n",
        "\n",
        "int main(){\n",
        "\n",
        "  VideoCapture cap;\n",
        "\n",
        "\tcap.open(\"./test2.mp4\");\n",
        "  int frame_width = static_cast<int>(cap.get(3));\n",
        "  int frame_height = static_cast<int>(cap.get(4));\n",
        "  Size frame_size(frame_width, frame_height);\n",
        "  int fps = 20;\n",
        "  VideoWriter output(\"./output.avi\", VideoWriter::fourcc('M', 'J', 'P', 'G'),fps, frame_size);\n",
        "\n",
        "\tMat frame, grey_frame, grey_three, cny_frame, cny_three, img_join, img_flip, imagesmall[2];\n",
        "  vector<Mat> cny_three_vec;\n",
        "\n",
        "\tfor(;;) {\n",
        "\t\tcap >> frame;\n",
        "\t\tif( frame.empty() ) break; // Ran out of film\n",
        "    imagesmall[0] = Mat(frame, Rect(0, 0, (frame_width/2), frame_height)).clone();\n",
        "    imagesmall[1] = Mat(frame, Rect((frame_width/2), 0, (frame_width/2), frame_height)).clone();\n",
        "    cvtColor(imagesmall[0], grey_frame, CV_BGR2GRAY);\n",
        "    cvtColor(grey_frame, grey_three, CV_GRAY2BGR); // Hack for getting Grayscale back to the same shape as RGB (i.e. color)\n",
        "    Canny( grey_frame, cny_frame, 10, 100, 3, true );\n",
        "    cvtColor(cny_frame, cny_three, CV_GRAY2BGR); // Hack for getting Grayscale back to the same shape as RGB (i.e. color)\n",
        "    \n",
        "    flip(imagesmall[1], img_flip, 1);\n",
        "    hconcat(img_flip, cny_three, img_join);\n",
        "    \n",
        "    output.write(img_join);\n",
        "\t}\n",
        "  cap.release();\n",
        "\treturn 0;\n",
        "}"
      ],
      "metadata": {
        "colab": {
          "base_uri": "https://localhost:8080/"
        },
        "id": "2k-VrixqOmWn",
        "outputId": "96a0c03e-6c49-4b61-aa98-ab20f349e1a9"
      },
      "execution_count": 22,
      "outputs": [
        {
          "output_type": "stream",
          "name": "stdout",
          "text": [
            "Overwriting tutorial3help.cpp\n"
          ]
        }
      ]
    },
    {
      "cell_type": "code",
      "source": [
        "%%script bash\n",
        "\n",
        "g++ tutorial3help.cpp -L/usr/include/opencv -lopencv_core -lopencv_highgui -lopencv_imgcodecs -lopencv_imgproc -lopencv_videoio -std=c++11 \n",
        "\n",
        "./a.out"
      ],
      "metadata": {
        "id": "sYfykYcCOts5"
      },
      "execution_count": 23,
      "outputs": []
    }
  ]
}